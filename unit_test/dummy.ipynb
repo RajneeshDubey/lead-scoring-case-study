{
 "cells": [
  {
   "cell_type": "code",
   "execution_count": 4,
   "id": "7551f9f8-6b42-4822-8259-f7df333d805b",
   "metadata": {},
   "outputs": [],
   "source": [
    "from constants import *\n",
    "from utils import *\n",
    "import mapping.city_tier_mapping\n",
    "from mapping.significant_categorical_level import *\n",
    "from data_validation_checks import *\n",
    "from mapping import *\n",
    "from schema import *"
   ]
  },
  {
   "cell_type": "code",
   "execution_count": 5,
   "id": "a0aec51e-ae60-4bbd-863e-6217f823707c",
   "metadata": {},
   "outputs": [
    {
     "name": "stdout",
     "output_type": "stream",
     "text": [
      "test\n"
     ]
    }
   ],
   "source": [
    "print(\"test\")"
   ]
  },
  {
   "cell_type": "code",
   "execution_count": 6,
   "id": "7e07088f-c205-47b9-a11d-80ba000e61dd",
   "metadata": {},
   "outputs": [
    {
     "name": "stdout",
     "output_type": "stream",
     "text": [
      "Creating Database\n",
      "New DB Created\n"
     ]
    },
    {
     "data": {
      "text/plain": [
       "'DB created'"
      ]
     },
     "execution_count": 6,
     "metadata": {},
     "output_type": "execute_result"
    }
   ],
   "source": [
    "build_dbs(DB_FILE_NAME,DB_PATH)"
   ]
  },
  {
   "cell_type": "code",
   "execution_count": 7,
   "id": "b4508974-d3d1-4153-9963-791123203230",
   "metadata": {},
   "outputs": [
    {
     "name": "stdout",
     "output_type": "stream",
     "text": [
      "loading data...\n",
      "loaded_data...\n"
     ]
    }
   ],
   "source": [
    "load_data_into_db(DB_FILE_NAME,DB_PATH,DATA_DIRECTORY)"
   ]
  },
  {
   "cell_type": "code",
   "execution_count": 8,
   "id": "da478e85-7179-43f2-9cb1-933b2625794c",
   "metadata": {},
   "outputs": [
    {
     "name": "stdout",
     "output_type": "stream",
     "text": [
      "city_tier_mapping...\n",
      "city_tier_mapped\n",
      "          created_date city_mapped first_platform_c first_utm_medium_c  \\\n",
      "0  2021-08-13 10:44:09      mumbai           Level0             Level0   \n",
      "1  2021-11-04 06:34:10         ncr           Level1             Level1   \n",
      "2  2021-07-29 14:01:00      meerut           Level0             Level2   \n",
      "3  2021-12-01 13:21:54         ncr           Level1             Level3   \n",
      "4  2021-12-10 07:22:51   ahmedabad           Level2             Level2   \n",
      "\n",
      "  first_utm_source_c  total_leads_droppped  referred_lead  \\\n",
      "0             Level0                   1.0            0.0   \n",
      "1             Level1                   1.0            0.0   \n",
      "2             Level2                   2.0            0.0   \n",
      "3             Level3                   1.0            0.0   \n",
      "4             Level2                   1.0            0.0   \n",
      "\n",
      "  1_on_1_industry_mentorship  call_us_button_clicked  career_assistance  ...  \\\n",
      "0                       None                     NaN                NaN  ...   \n",
      "1                       None                     NaN                NaN  ...   \n",
      "2                       None                     NaN                NaN  ...   \n",
      "3                       None                     NaN                NaN  ...   \n",
      "4                       None                     NaN                NaN  ...   \n",
      "\n",
      "  specilization_click  syllabus  syllabus_expand syllabus_submodule_expand  \\\n",
      "0                 NaN       NaN              NaN                       NaN   \n",
      "1                 NaN       NaN              NaN                       NaN   \n",
      "2                 NaN       NaN              NaN                       NaN   \n",
      "3                 NaN       NaN              NaN                       NaN   \n",
      "4                 NaN       NaN              NaN                       NaN   \n",
      "\n",
      "   tab_career_assistance  tab_job_opportunities tab_student_support  \\\n",
      "0                    NaN                    NaN                 NaN   \n",
      "1                    NaN                    NaN                 NaN   \n",
      "2                    NaN                    NaN                 NaN   \n",
      "3                    NaN                    NaN                 NaN   \n",
      "4                    NaN                    NaN                 NaN   \n",
      "\n",
      "   view_programs_page  whatsapp_chat_click  app_complete_flag  \n",
      "0                 NaN                  NaN                  0  \n",
      "1                 NaN                  NaN                  0  \n",
      "2                 NaN                  NaN                  0  \n",
      "3                 NaN                  NaN                  0  \n",
      "4                 NaN                  NaN                  0  \n",
      "\n",
      "[5 rows x 45 columns]\n"
     ]
    }
   ],
   "source": [
    "map_city_tier(DB_FILE_NAME,DB_PATH,city_tier_mapping.city_tier_mapping)"
   ]
  },
  {
   "cell_type": "code",
   "execution_count": 9,
   "id": "7b3ae01c-8273-44b0-9c62-897ec3bd3068",
   "metadata": {},
   "outputs": [
    {
     "name": "stdout",
     "output_type": "stream",
     "text": [
      "categorical_variables_mapped....\n",
      "categorical_variables_mapped conn....\n",
      "categorical_variables_mapped\n"
     ]
    },
    {
     "name": "stderr",
     "output_type": "stream",
     "text": [
      "/home/Assignment/01_data_pipeline/scripts/utils.py:192: SettingWithCopyWarning: \n",
      "A value is trying to be set on a copy of a slice from a DataFrame.\n",
      "Try using .loc[row_indexer,col_indexer] = value instead\n",
      "\n",
      "See the caveats in the documentation: https://pandas.pydata.org/pandas-docs/stable/user_guide/indexing.html#returning-a-view-versus-a-copy\n",
      "  new_df['first_platform_c']=\"others\"\n",
      "/home/Assignment/01_data_pipeline/scripts/utils.py:197: SettingWithCopyWarning: \n",
      "A value is trying to be set on a copy of a slice from a DataFrame.\n",
      "Try using .loc[row_indexer,col_indexer] = value instead\n",
      "\n",
      "See the caveats in the documentation: https://pandas.pydata.org/pandas-docs/stable/user_guide/indexing.html#returning-a-view-versus-a-copy\n",
      "  new_df['first_utm_medium_c']=\"others\"\n",
      "/home/Assignment/01_data_pipeline/scripts/utils.py:202: SettingWithCopyWarning: \n",
      "A value is trying to be set on a copy of a slice from a DataFrame.\n",
      "Try using .loc[row_indexer,col_indexer] = value instead\n",
      "\n",
      "See the caveats in the documentation: https://pandas.pydata.org/pandas-docs/stable/user_guide/indexing.html#returning-a-view-versus-a-copy\n",
      "  new_df['first_utm_source_c']=\"others\"\n"
     ]
    }
   ],
   "source": [
    "map_categorical_vars(DB_FILE_NAME,DB_PATH,list_platform,list_medium,list_source)"
   ]
  },
  {
   "cell_type": "code",
   "execution_count": 10,
   "id": "e7a8fe9f-ee2c-4d33-94ec-84a737287d20",
   "metadata": {},
   "outputs": [
    {
     "name": "stdout",
     "output_type": "stream",
     "text": [
      "<sqlite3.Connection object at 0x7f966b853b70>\n",
      "connection valid\n",
      "melting...for unpivoting\n",
      "setting pivot\n",
      "saving into model_input\n"
     ]
    }
   ],
   "source": [
    "interactions_mapping(DB_FILE_NAME,DB_PATH,INTERACTION_MAPPING,INDEX_COLUMNS_TRAINING,NOT_FEATURES)"
   ]
  },
  {
   "cell_type": "code",
   "execution_count": 11,
   "id": "6230b7a9-40ef-48f0-9331-a27a3e78031c",
   "metadata": {},
   "outputs": [
    {
     "name": "stdout",
     "output_type": "stream",
     "text": [
      "Raw datas schema is in line with the schema present in schema.py\n"
     ]
    }
   ],
   "source": [
    "raw_data_schema_check(DB_FILE_NAME,DB_PATH,raw_data_schema)"
   ]
  },
  {
   "cell_type": "code",
   "execution_count": 12,
   "id": "a09a40fd-3d28-4847-95ca-a682709b3397",
   "metadata": {},
   "outputs": [
    {
     "name": "stdout",
     "output_type": "stream",
     "text": [
      "Models input schema is in line with the schema present in schema.p\n"
     ]
    }
   ],
   "source": [
    "model_input_schema_check(DB_FILE_NAME,DB_PATH,model_input_schema)"
   ]
  },
  {
   "cell_type": "code",
   "execution_count": null,
   "id": "c7409885-09d0-42a0-afd3-dd3eb8e28364",
   "metadata": {},
   "outputs": [],
   "source": []
  }
 ],
 "metadata": {
  "kernelspec": {
   "display_name": "Python 3 (ipykernel)",
   "language": "python",
   "name": "python3"
  },
  "language_info": {
   "codemirror_mode": {
    "name": "ipython",
    "version": 3
   },
   "file_extension": ".py",
   "mimetype": "text/x-python",
   "name": "python",
   "nbconvert_exporter": "python",
   "pygments_lexer": "ipython3",
   "version": "3.8.12"
  }
 },
 "nbformat": 4,
 "nbformat_minor": 5
}
